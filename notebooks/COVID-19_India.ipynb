{
 "cells": [
  {
   "cell_type": "code",
   "execution_count": 1,
   "metadata": {},
   "outputs": [],
   "source": [
    "import pandas as pd\n",
    "import numpy as np\n",
    "import matplotlib.pyplot as plt\n",
    "import datetime\n",
    "from zipfile import ZipFile\n",
    "\n",
    "from urllib.request import urlopen\n",
    "from bs4 import BeautifulSoup\n",
    "from csv import writer\n",
    "import re"
   ]
  },
  {
   "cell_type": "code",
   "execution_count": 2,
   "metadata": {},
   "outputs": [],
   "source": [
    "#opening URL and getting HTTP response\n",
    "url = \"https://www.mohfw.gov.in/\"\n",
    "#url = \"http://www.covid19india.com/\"\n",
    "html = urlopen(url)\n",
    "soup = BeautifulSoup(html, 'lxml')"
   ]
  },
  {
   "cell_type": "code",
   "execution_count": 3,
   "metadata": {},
   "outputs": [],
   "source": [
    "#fetch timing details for the data from the header tags\n",
    "def listtostring(s):\n",
    "    str1= \"\"\n",
    "    for x in s:\n",
    "        str1 +=x\n",
    "        return str1\n",
    "\n",
    "titles = []\n",
    "for h2 in soup.find_all('h2'):\n",
    "    titles.append(h2.text)\n",
    "#timing details\n",
    "reg_1 = re.compile(\".*GMT\")\n",
    "temp_1 = list(filter(reg_1.match, titles))\n",
    "time_date = listtostring(temp_1)"
   ]
  },
  {
   "cell_type": "code",
   "execution_count": 4,
   "metadata": {},
   "outputs": [],
   "source": [
    "\"\"\"METHOD 1 - Using Beautiful soup to create Data Frame\"\"\"\n",
    "# Table coloumn data and header\n",
    "table = soup.table\n",
    "table_row = table.find_all('tr')\n",
    "\n",
    "row_data = []\n",
    "for tr in table_row:\n",
    "    td = tr.find_all('td')\n",
    "    row = [dt.text for dt in td]\n",
    "    row_data.append(row)\n",
    "\n",
    "col_header_list = []\n",
    "col_name = []\n",
    "for tr in table_row:\n",
    "    th = tr.find_all('th')\n",
    "    head_row = [dh.text for dh in th]\n",
    "    col_header_list.append(head_row)\n",
    "col_header = col_header_list[0]\n",
    "for col in col_header:\n",
    "    col_name.append(col.strip())"
   ]
  },
  {
   "cell_type": "code",
   "execution_count": 5,
   "metadata": {},
   "outputs": [
    {
     "data": {
      "text/plain": [
       "'METHOD 2 - Using read_html from pandas package to create Data Frame\\ndfs = pd.read_html(url)\\nfor df in dfs:\\n    df\\ndf'"
      ]
     },
     "execution_count": 5,
     "metadata": {},
     "output_type": "execute_result"
    }
   ],
   "source": [
    "\"\"\"METHOD 2 - Using read_html from pandas package to create Data Frame\n",
    "dfs = pd.read_html(url)\n",
    "for df in dfs:\n",
    "    df\n",
    "df\"\"\""
   ]
  },
  {
   "cell_type": "code",
   "execution_count": 6,
   "metadata": {},
   "outputs": [],
   "source": [
    "# Data Frame\n",
    "df_temp = pd.DataFrame(row_data, columns=col_name)\n",
    "df_temp = df_temp.dropna(how='any',axis=0) \n",
    "ind_vir_df = df_temp.drop(columns='S. No.')\n",
    "ind_vir_df.reset_index(drop=True,inplace=True)#from here data is exported\n",
    "\n",
    "#Converting data type of coloumns to int and index is set\n",
    "df_temp = ind_vir_df.set_index('Name of State / UT')\n",
    "df_final = df_temp.astype(int)"
   ]
  },
  {
   "cell_type": "code",
   "execution_count": 7,
   "metadata": {},
   "outputs": [],
   "source": [
    "#Exporting to .csv\n",
    "#File path\n",
    "file_path ='/Users/dinaeshs/Covid_19_India/data'\n",
    "latest_data_states_file_path = '/Users/dinaeshs/Covid_19_India/data/latest_state_data.csv'\n",
    "#File name\n",
    "file_name_temp  = time_date.split(':',1)\n",
    "file_name = file_name_temp[1].strip()\n",
    "#File path and name\n",
    "file_path_and_name = file_path+'/'+file_name+'.csv'\n",
    "ind_vir_df.to_csv(file_path_and_name, index=False, header=True)\n",
    "ind_vir_df.to_csv(latest_data_states_file_path, index=False, header=True)\n"
   ]
  },
  {
   "cell_type": "code",
   "execution_count": 8,
   "metadata": {},
   "outputs": [],
   "source": [
    "#Adding new data series, calculated with other series\n",
    "df_final['Active cases'] = df_final[df_final.columns[0]] - df_final[df_final.columns[1]] - df_final.Death\n",
    "df_final.rename(columns={df_final.columns[0]:'Confirmed',df_final.columns[1]:'Cured'}, inplace=True)\n"
   ]
  },
  {
   "cell_type": "code",
   "execution_count": 9,
   "metadata": {},
   "outputs": [],
   "source": [
    "df_final.loc['Total',:]= df_final.sum(axis=0)\n",
    "df_final = df_final.astype(int)"
   ]
  },
  {
   "cell_type": "code",
   "execution_count": 10,
   "metadata": {},
   "outputs": [
    {
     "name": "stderr",
     "output_type": "stream",
     "text": [
      "/Users/dinaeshs/opt/anaconda3/lib/python3.7/site-packages/pandas/core/indexing.py:376: SettingWithCopyWarning: \n",
      "A value is trying to be set on a copy of a slice from a DataFrame.\n",
      "Try using .loc[row_indexer,col_indexer] = value instead\n",
      "\n",
      "See the caveats in the documentation: http://pandas.pydata.org/pandas-docs/stable/user_guide/indexing.html#returning-a-view-versus-a-copy\n",
      "  self.obj[key] = _infer_fill_value(value)\n",
      "/Users/dinaeshs/opt/anaconda3/lib/python3.7/site-packages/pandas/core/indexing.py:494: SettingWithCopyWarning: \n",
      "A value is trying to be set on a copy of a slice from a DataFrame.\n",
      "Try using .loc[row_indexer,col_indexer] = value instead\n",
      "\n",
      "See the caveats in the documentation: http://pandas.pydata.org/pandas-docs/stable/user_guide/indexing.html#returning-a-view-versus-a-copy\n",
      "  self.obj[item] = s\n"
     ]
    }
   ],
   "source": [
    "#getting total values for the day and converting it to array\n",
    "#date = file_name.split(',',1)[0]\n",
    "day_total = df_final.iloc[-1:]\n",
    "#day_total.loc[:,'Date'] = file_name\n",
    "time_from_file = file_name.split(',')[1]\n",
    "dt_time_str = file_name.split(',')[0] + \" \"+ time_from_file.split(' ')[1]\n",
    "dt_time_str_formated = datetime.datetime.strptime(dt_time_str,'%d %B %Y %H:%M')\n",
    "day_total.loc[:,'Date'] = dt_time_str_formated\n",
    "final_count_for_day = day_total.iloc[0].values"
   ]
  },
  {
   "cell_type": "code",
   "execution_count": 11,
   "metadata": {},
   "outputs": [],
   "source": [
    "#opeing all_data.csv file and storing the final total value with date and time\n",
    "with open('/Users/dinaeshs/Covid_19_India/data/all_date.csv', 'a+', newline='') as write_obj:\n",
    "    csv_writer = writer(write_obj)\n",
    "    csv_writer.writerow(final_count_for_day)"
   ]
  },
  {
   "cell_type": "code",
   "execution_count": 12,
   "metadata": {},
   "outputs": [],
   "source": [
    "# April 11th,2020 installed Kaggle API to pull data from sudalairajkumar/covid19-in-india\n",
    "#!pip install kaggle\n",
    "#command to install kaggleCLI in the the machine"
   ]
  },
  {
   "cell_type": "code",
   "execution_count": 13,
   "metadata": {},
   "outputs": [
    {
     "name": "stdout",
     "output_type": "stream",
     "text": [
      "Downloading covid19-in-india.zip to /Users/dinaeshs/Covid_19_India/notebooks\r\n",
      "  0%|                                                | 0.00/114k [00:00<?, ?B/s]\r\n",
      "100%|████████████████████████████████████████| 114k/114k [00:00<00:00, 5.73MB/s]\r\n"
     ]
    }
   ],
   "source": [
    "# run this command to download the data\n",
    "#!kaggle datasets download -d sudalairajkumar/covid19-in-india --force - to force download \n",
    "!kaggle datasets download -d sudalairajkumar/covid19-in-india"
   ]
  },
  {
   "cell_type": "code",
   "execution_count": 14,
   "metadata": {},
   "outputs": [],
   "source": [
    "mv covid19-in-india.zip /Users/dinaeshs/Covid_19_India/data/"
   ]
  },
  {
   "cell_type": "code",
   "execution_count": 15,
   "metadata": {},
   "outputs": [],
   "source": [
    "file_name_from_kaggle_dataset = '/Users/dinaeshs/Covid_19_India/data/covid19-in-india.zip'\n",
    "\n",
    "with ZipFile(file_name_from_kaggle_dataset, 'r') as zf:\n",
    "    zf.extractall('/Users/dinaeshs/Covid_19_India/data/kaggle_dataset')"
   ]
  },
  {
   "cell_type": "code",
   "execution_count": 16,
   "metadata": {},
   "outputs": [
    {
     "name": "stdout",
     "output_type": "stream",
     "text": [
      "<class 'pandas.core.frame.DataFrame'>\n",
      "Index: 33 entries, Andaman and Nicobar Islands to West Bengal\n",
      "Data columns (total 3 columns):\n",
      "Total Confirmed cases (Including 76 foreign Nationals)    33 non-null object\n",
      "Cured/Discharged/Migrated                                 33 non-null object\n",
      "Death                                                     33 non-null object\n",
      "dtypes: object(3)\n",
      "memory usage: 1.0+ KB\n"
     ]
    }
   ],
   "source": [
    "df_temp.info()"
   ]
  },
  {
   "cell_type": "code",
   "execution_count": null,
   "metadata": {},
   "outputs": [],
   "source": []
  },
  {
   "cell_type": "code",
   "execution_count": null,
   "metadata": {},
   "outputs": [],
   "source": []
  },
  {
   "cell_type": "code",
   "execution_count": null,
   "metadata": {},
   "outputs": [],
   "source": []
  },
  {
   "cell_type": "code",
   "execution_count": null,
   "metadata": {},
   "outputs": [],
   "source": []
  },
  {
   "cell_type": "code",
   "execution_count": null,
   "metadata": {},
   "outputs": [],
   "source": []
  },
  {
   "cell_type": "code",
   "execution_count": null,
   "metadata": {},
   "outputs": [],
   "source": []
  }
 ],
 "metadata": {
  "kernelspec": {
   "display_name": "Python 3",
   "language": "python",
   "name": "python3"
  },
  "language_info": {
   "codemirror_mode": {
    "name": "ipython",
    "version": 3
   },
   "file_extension": ".py",
   "mimetype": "text/x-python",
   "name": "python",
   "nbconvert_exporter": "python",
   "pygments_lexer": "ipython3",
   "version": "3.7.4"
  }
 },
 "nbformat": 4,
 "nbformat_minor": 2
}
