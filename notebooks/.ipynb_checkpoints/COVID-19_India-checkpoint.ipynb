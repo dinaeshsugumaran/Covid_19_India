{
 "cells": [
  {
   "cell_type": "code",
   "execution_count": 281,
   "metadata": {},
   "outputs": [],
   "source": [
    "import pandas as pd\n",
    "import numpy as np\n",
    "import matplotlib.pyplot as plt\n",
    "\n",
    "from urllib.request import urlopen\n",
    "from bs4 import BeautifulSoup\n",
    "from csv import writer\n",
    "import re"
   ]
  },
  {
   "cell_type": "code",
   "execution_count": 282,
   "metadata": {},
   "outputs": [],
   "source": [
    "#opening URL and getting HTTP response\n",
    "url = \"https://www.mohfw.gov.in/\"\n",
    "#url = \"http://www.covid19india.com/\"\n",
    "html = urlopen(url)\n",
    "soup = BeautifulSoup(html, 'lxml')"
   ]
  },
  {
   "cell_type": "code",
   "execution_count": 283,
   "metadata": {},
   "outputs": [],
   "source": [
    "#fetch timing details for the data from the header tags\n",
    "def listtostring(s):\n",
    "    str1= \"\"\n",
    "    for x in s:\n",
    "        str1 +=x\n",
    "        return str1\n",
    "\n",
    "titles = []\n",
    "for h2 in soup.find_all('h2'):\n",
    "    titles.append(h2.text)\n",
    "#timing details\n",
    "reg_1 = re.compile(\".*GMT\")\n",
    "temp_1 = list(filter(reg_1.match, titles))\n",
    "time_date = listtostring(temp_1)"
   ]
  },
  {
   "cell_type": "code",
   "execution_count": 284,
   "metadata": {},
   "outputs": [],
   "source": [
    "\"\"\"METHOD 1 - Using Beautiful soup to create Data Frame\"\"\"\n",
    "# Table coloumn data and header\n",
    "table = soup.table\n",
    "table_row = table.find_all('tr')\n",
    "\n",
    "row_data = []\n",
    "for tr in table_row:\n",
    "    td = tr.find_all('td')\n",
    "    row = [dt.text for dt in td]\n",
    "    row_data.append(row)\n",
    "\n",
    "col_header_list = []\n",
    "col_name = []\n",
    "for tr in table_row:\n",
    "    th = tr.find_all('th')\n",
    "    head_row = [dh.text for dh in th]\n",
    "    col_header_list.append(head_row)\n",
    "col_header = col_header_list[0]\n",
    "for col in col_header:\n",
    "    col_name.append(col.strip())"
   ]
  },
  {
   "cell_type": "code",
   "execution_count": null,
   "metadata": {},
   "outputs": [],
   "source": [
    "\"\"\"METHOD 2 - Using read_html from pandas package to create Data Frame\n",
    "dfs = pd.read_html(url)\n",
    "for df in dfs:\n",
    "    df\n",
    "df\"\"\""
   ]
  },
  {
   "cell_type": "code",
   "execution_count": 285,
   "metadata": {},
   "outputs": [],
   "source": [
    "# Data Frame\n",
    "df_temp = pd.DataFrame(row_data, columns=col_name)\n",
    "df_temp = df_temp.dropna(how='any',axis=0) \n",
    "ind_vir_df = df_temp.drop(columns='S. No.')\n",
    "ind_vir_df.reset_index(drop=True,inplace=True)#from here data is exported\n",
    "\n",
    "#Converting data type of coloumns to int and index is set\n",
    "df_temp = ind_vir_df.set_index('Name of State / UT')\n",
    "df_final = df_temp.astype(int)"
   ]
  },
  {
   "cell_type": "code",
   "execution_count": 286,
   "metadata": {},
   "outputs": [],
   "source": [
    "#Exporting to .csv\n",
    "#File path\n",
    "file_path ='/Users/dinaeshs/Covid19_india_data'\n",
    "#File name\n",
    "file_name_temp  = time_date.split(':',1)\n",
    "file_name = file_name_temp[1].strip()\n",
    "#File path and name\n",
    "file_path_and_name = file_path+'/'+file_name+'.csv'\n",
    "ind_vir_df.to_csv(file_path_and_name, index=False, header=True)"
   ]
  },
  {
   "cell_type": "code",
   "execution_count": 287,
   "metadata": {},
   "outputs": [],
   "source": [
    "#Adding new data series, calculated with other series\n",
    "df_final['Active cases'] = df_final[df_final.columns[0]] - df_final[df_final.columns[1]] - df_final.Death\n",
    "df_final.rename(columns={df_final.columns[0]:'Confirmed',df_final.columns[1]:'Cured'}, inplace=True)\n"
   ]
  },
  {
   "cell_type": "code",
   "execution_count": 288,
   "metadata": {},
   "outputs": [],
   "source": [
    "df_final.loc['Total',:]= df_final.sum(axis=0)\n",
    "df_final = df_final.astype(int)"
   ]
  },
  {
   "cell_type": "code",
   "execution_count": 289,
   "metadata": {},
   "outputs": [],
   "source": [
    "#getting total values for the day and converting it to array\n",
    "#date = file_name.split(',',1)[0]\n",
    "day_total = df_final.iloc[-1:]\n",
    "day_total.loc[:,'Date'] = file_name\n",
    "final_count_for_day = day_total.iloc[0].values"
   ]
  },
  {
   "cell_type": "code",
   "execution_count": 290,
   "metadata": {},
   "outputs": [],
   "source": [
    "#opeing all_data.csv file and storing the final total value with date and time\n",
    "with open('/Users/dinaeshs/Covid19_india_data/all_date.csv', 'a+', newline='') as write_obj:\n",
    "    csv_writer = writer(write_obj)\n",
    "    csv_writer.writerow(final_count_for_day)"
   ]
  },
  {
   "cell_type": "code",
   "execution_count": null,
   "metadata": {},
   "outputs": [],
   "source": []
  },
  {
   "cell_type": "code",
   "execution_count": null,
   "metadata": {},
   "outputs": [],
   "source": []
  },
  {
   "cell_type": "code",
   "execution_count": null,
   "metadata": {},
   "outputs": [],
   "source": []
  },
  {
   "cell_type": "code",
   "execution_count": null,
   "metadata": {},
   "outputs": [],
   "source": []
  }
 ],
 "metadata": {
  "kernelspec": {
   "display_name": "Python 3",
   "language": "python",
   "name": "python3"
  },
  "language_info": {
   "codemirror_mode": {
    "name": "ipython",
    "version": 3
   },
   "file_extension": ".py",
   "mimetype": "text/x-python",
   "name": "python",
   "nbconvert_exporter": "python",
   "pygments_lexer": "ipython3",
   "version": "3.7.4"
  }
 },
 "nbformat": 4,
 "nbformat_minor": 2
}
